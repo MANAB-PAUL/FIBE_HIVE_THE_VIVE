{
 "cells": [
  {
   "cell_type": "code",
   "execution_count": 1,
   "id": "4e73bc23",
   "metadata": {},
   "outputs": [],
   "source": [
    "#Importing all the library\n",
    "import pandas as pd\n",
    "import numpy as np\n",
    "from matplotlib import pyplot as plt\n",
    "import tensorflow as tf\n",
    "from tensorflow import keras\n",
    "from tensorflow.keras import layers\n",
    "import seaborn as sns\n",
    "from scipy import stats\n",
    "from sklearn.model_selection import train_test_split\n",
    "from sklearn import preprocessing\n",
    "from sklearn.linear_model import LogisticRegression\n",
    "import pickle\n",
    "from sklearn.ensemble import RandomForestClassifier\n",
    "from sklearn.neighbors import KNeighborsClassifier\n",
    "from sklearn.metrics import precision_score, recall_score, f1_score\n",
    "from sklearn.metrics import confusion_matrix , classification_report"
   ]
  },
  {
   "cell_type": "code",
   "execution_count": 2,
   "id": "cdd61f7f",
   "metadata": {},
   "outputs": [],
   "source": [
    "X_train1 = pd.read_csv('X_train1.csv')\n",
    "y_train1 = pd.read_csv('y_train1.csv')\n",
    "X_test = pd.read_csv('X_test.csv')\n",
    "y_test = pd.read_csv('y_test.csv')"
   ]
  },
  {
   "cell_type": "code",
   "execution_count": 3,
   "id": "c51fff54",
   "metadata": {},
   "outputs": [],
   "source": [
    "X_train2 = pd.read_csv('X_train2.csv')\n",
    "y_train2 = pd.read_csv('y_train2.csv')\n",
    "X_train3 = pd.read_csv('X_train3.csv')\n",
    "y_train3 = pd.read_csv('y_train3.csv')\n",
    "X_train4 = pd.read_csv('X_train4.csv')\n",
    "y_train4 = pd.read_csv('y_train4.csv')\n",
    "X_train5 = pd.read_csv('X_train5.csv')\n",
    "y_train5 = pd.read_csv('y_train5.csv')\n",
    "X_train6 = pd.read_csv('X_train6.csv')\n",
    "y_train6 = pd.read_csv('y_train6.csv')\n",
    "X_train7 = pd.read_csv('X_train7.csv')\n",
    "y_train7 = pd.read_csv('y_train7.csv')"
   ]
  },
  {
   "cell_type": "code",
   "execution_count": 4,
   "id": "eba13ffb",
   "metadata": {},
   "outputs": [],
   "source": [
    "### scaling test data\n",
    "x = X_test.values #returns a numpy array\n",
    "min_max_scaler = preprocessing.MinMaxScaler()\n",
    "X_test_scaled = min_max_scaler.fit_transform(x)\n",
    "df_X_test_scaled = pd.DataFrame(X_test_scaled)"
   ]
  },
  {
   "cell_type": "code",
   "execution_count": 5,
   "id": "9b8423a3",
   "metadata": {},
   "outputs": [],
   "source": [
    "### scaling and using model"
   ]
  },
  {
   "cell_type": "code",
   "execution_count": 6,
   "id": "da2a7597",
   "metadata": {},
   "outputs": [],
   "source": [
    "x = X_train1.values #returns a numpy array\n",
    "min_max_scaler = preprocessing.MinMaxScaler()\n",
    "X_train_scaled = min_max_scaler.fit_transform(x)\n",
    "df_X_train1_scaled = pd.DataFrame(X_train_scaled)"
   ]
  },
  {
   "cell_type": "code",
   "execution_count": 7,
   "id": "18e19b29",
   "metadata": {},
   "outputs": [],
   "source": [
    "y_train_np = np.array(y_train1)\n",
    "y_train_np = y_train_np.flatten()\n",
    "y_test_np = np.array(y_test)\n",
    "y_test_np = y_test_np.flatten()\n",
    "\n",
    "clf_RF = RandomForestClassifier(n_estimators=100)\n",
    "clf_RF.fit(df_X_train1_scaled, y_train_np)\n",
    "accuracy_RF = clf_RF.score(df_X_test_scaled, y_test_np)\n",
    "y_pred_RF1 = clf_RF.predict(df_X_test_scaled)"
   ]
  },
  {
   "cell_type": "code",
   "execution_count": 8,
   "id": "df6aae9a",
   "metadata": {},
   "outputs": [],
   "source": [
    "x = X_train2.values #returns a numpy array\n",
    "min_max_scaler = preprocessing.MinMaxScaler()\n",
    "X_train_scaled = min_max_scaler.fit_transform(x)\n",
    "df_X_train2_scaled = pd.DataFrame(X_train_scaled)"
   ]
  },
  {
   "cell_type": "code",
   "execution_count": 9,
   "id": "56ee4673",
   "metadata": {},
   "outputs": [],
   "source": [
    "y_train_np = np.array(y_train2)\n",
    "y_train_np = y_train_np.flatten()\n",
    "y_test_np = np.array(y_test)\n",
    "y_test_np = y_test_np.flatten()\n",
    "\n",
    "clf_RF = RandomForestClassifier(n_estimators=100)\n",
    "clf_RF.fit(df_X_train2_scaled, y_train_np)\n",
    "accuracy_RF = clf_RF.score(df_X_test_scaled, y_test_np)\n",
    "y_pred_RF2 = clf_RF.predict(df_X_test_scaled)"
   ]
  },
  {
   "cell_type": "code",
   "execution_count": 10,
   "id": "57e490fc",
   "metadata": {},
   "outputs": [],
   "source": [
    "x = X_train3.values #returns a numpy array\n",
    "min_max_scaler = preprocessing.MinMaxScaler()\n",
    "X_train_scaled = min_max_scaler.fit_transform(x)\n",
    "df_X_train3_scaled = pd.DataFrame(X_train_scaled)"
   ]
  },
  {
   "cell_type": "code",
   "execution_count": 11,
   "id": "cecd5e4d",
   "metadata": {},
   "outputs": [],
   "source": [
    "y_train_np = np.array(y_train3)\n",
    "y_train_np = y_train_np.flatten()\n",
    "y_test_np = np.array(y_test)\n",
    "y_test_np = y_test_np.flatten()\n",
    "\n",
    "clf_RF = RandomForestClassifier(n_estimators=100)\n",
    "clf_RF.fit(df_X_train3_scaled, y_train_np)\n",
    "accuracy_RF = clf_RF.score(df_X_test_scaled, y_test_np)\n",
    "y_pred_RF3 = clf_RF.predict(df_X_test_scaled)"
   ]
  },
  {
   "cell_type": "code",
   "execution_count": 12,
   "id": "79d7eeff",
   "metadata": {},
   "outputs": [],
   "source": [
    "x = X_train4.values #returns a numpy array\n",
    "min_max_scaler = preprocessing.MinMaxScaler()\n",
    "X_train_scaled = min_max_scaler.fit_transform(x)\n",
    "df_X_train4_scaled = pd.DataFrame(X_train_scaled)"
   ]
  },
  {
   "cell_type": "code",
   "execution_count": 13,
   "id": "6a168ed2",
   "metadata": {},
   "outputs": [],
   "source": [
    "y_train_np = np.array(y_train4)\n",
    "y_train_np = y_train_np.flatten()\n",
    "y_test_np = np.array(y_test)\n",
    "y_test_np = y_test_np.flatten()\n",
    "\n",
    "clf_RF = RandomForestClassifier(n_estimators=100)\n",
    "clf_RF.fit(df_X_train4_scaled, y_train_np)\n",
    "accuracy_RF = clf_RF.score(df_X_test_scaled, y_test_np)\n",
    "y_pred_RF4 = clf_RF.predict(df_X_test_scaled)"
   ]
  },
  {
   "cell_type": "code",
   "execution_count": 14,
   "id": "a811928d",
   "metadata": {},
   "outputs": [],
   "source": [
    "x = X_train5.values #returns a numpy array\n",
    "min_max_scaler = preprocessing.MinMaxScaler()\n",
    "X_train_scaled = min_max_scaler.fit_transform(x)\n",
    "df_X_train5_scaled = pd.DataFrame(X_train_scaled)"
   ]
  },
  {
   "cell_type": "code",
   "execution_count": 15,
   "id": "96c22fdd",
   "metadata": {},
   "outputs": [],
   "source": [
    "y_train_np = np.array(y_train5)\n",
    "y_train_np = y_train_np.flatten()\n",
    "y_test_np = np.array(y_test)\n",
    "y_test_np = y_test_np.flatten()\n",
    "\n",
    "clf_RF = RandomForestClassifier(n_estimators=100)\n",
    "clf_RF.fit(df_X_train5_scaled, y_train_np)\n",
    "accuracy_RF = clf_RF.score(df_X_test_scaled, y_test_np)\n",
    "y_pred_RF5 = clf_RF.predict(df_X_test_scaled)"
   ]
  },
  {
   "cell_type": "code",
   "execution_count": 16,
   "id": "89977138",
   "metadata": {},
   "outputs": [],
   "source": [
    "x = X_train6.values #returns a numpy array\n",
    "min_max_scaler = preprocessing.MinMaxScaler()\n",
    "X_train_scaled = min_max_scaler.fit_transform(x)\n",
    "df_X_train6_scaled = pd.DataFrame(X_train_scaled)"
   ]
  },
  {
   "cell_type": "code",
   "execution_count": 17,
   "id": "6bd15a4d",
   "metadata": {},
   "outputs": [],
   "source": [
    "y_train_np = np.array(y_train6)\n",
    "y_train_np = y_train_np.flatten()\n",
    "y_test_np = np.array(y_test)\n",
    "y_test_np = y_test_np.flatten()\n",
    "\n",
    "clf_RF = RandomForestClassifier(n_estimators=100)\n",
    "clf_RF.fit(df_X_train6_scaled, y_train_np)\n",
    "accuracy_RF = clf_RF.score(df_X_test_scaled, y_test_np)\n",
    "y_pred_RF6 = clf_RF.predict(df_X_test_scaled)"
   ]
  },
  {
   "cell_type": "code",
   "execution_count": 18,
   "id": "60c2b38a",
   "metadata": {},
   "outputs": [],
   "source": [
    "x = X_train7.values #returns a numpy array\n",
    "min_max_scaler = preprocessing.MinMaxScaler()\n",
    "X_train_scaled = min_max_scaler.fit_transform(x)\n",
    "df_X_train7_scaled = pd.DataFrame(X_train_scaled)"
   ]
  },
  {
   "cell_type": "code",
   "execution_count": 19,
   "id": "c56ccc53",
   "metadata": {},
   "outputs": [],
   "source": [
    "y_train_np = np.array(y_train7)\n",
    "y_train_np = y_train_np.flatten()\n",
    "y_test_np = np.array(y_test)\n",
    "y_test_np = y_test_np.flatten()\n",
    "\n",
    "clf_RF = RandomForestClassifier(n_estimators=100)\n",
    "clf_RF.fit(df_X_train7_scaled, y_train_np)\n",
    "accuracy_RF = clf_RF.score(df_X_test_scaled, y_test_np)\n",
    "y_pred_RF7 = clf_RF.predict(df_X_test_scaled)"
   ]
  },
  {
   "cell_type": "code",
   "execution_count": 20,
   "id": "f9c02a3b",
   "metadata": {},
   "outputs": [
    {
     "data": {
      "text/plain": [
       "1312"
      ]
     },
     "execution_count": 20,
     "metadata": {},
     "output_type": "execute_result"
    }
   ],
   "source": [
    "len(y_test)"
   ]
  },
  {
   "cell_type": "code",
   "execution_count": 21,
   "id": "fae9583c",
   "metadata": {},
   "outputs": [
    {
     "data": {
      "text/plain": [
       "1312"
      ]
     },
     "execution_count": 21,
     "metadata": {},
     "output_type": "execute_result"
    }
   ],
   "source": [
    "len(y_pred_RF3)"
   ]
  },
  {
   "cell_type": "code",
   "execution_count": 22,
   "id": "ca672cea",
   "metadata": {},
   "outputs": [],
   "source": [
    "y_pred_final = []\n",
    "for i in range(len(y_test)):\n",
    "    n_o = y_pred_RF1[i] + y_pred_RF2[i] + y_pred_RF3[i] + y_pred_RF4[i] + y_pred_RF5[i] + y_pred_RF6[i] + y_pred_RF7[i]\n",
    "    if n_o > 3:\n",
    "        y_pred_final.append(1)\n",
    "    else:\n",
    "        y_pred_final.append(0)"
   ]
  },
  {
   "cell_type": "code",
   "execution_count": 23,
   "id": "fc9df890",
   "metadata": {},
   "outputs": [
    {
     "name": "stdout",
     "output_type": "stream",
     "text": [
      "Ensambled_RF: \n",
      "               precision    recall  f1-score   support\n",
      "\n",
      "           0       1.00      0.33      0.49      1127\n",
      "           1       0.20      1.00      0.33       185\n",
      "\n",
      "    accuracy                           0.42      1312\n",
      "   macro avg       0.60      0.66      0.41      1312\n",
      "weighted avg       0.89      0.42      0.47      1312\n",
      "\n"
     ]
    }
   ],
   "source": [
    "cl_rep = classification_report(y_test, y_pred_final)\n",
    "print('Ensambled_RF: \\n', cl_rep)"
   ]
  },
  {
   "cell_type": "code",
   "execution_count": null,
   "id": "5c9ef2f9",
   "metadata": {},
   "outputs": [],
   "source": []
  }
 ],
 "metadata": {
  "kernelspec": {
   "display_name": "Python 3 (ipykernel)",
   "language": "python",
   "name": "python3"
  },
  "language_info": {
   "codemirror_mode": {
    "name": "ipython",
    "version": 3
   },
   "file_extension": ".py",
   "mimetype": "text/x-python",
   "name": "python",
   "nbconvert_exporter": "python",
   "pygments_lexer": "ipython3",
   "version": "3.9.12"
  }
 },
 "nbformat": 4,
 "nbformat_minor": 5
}
