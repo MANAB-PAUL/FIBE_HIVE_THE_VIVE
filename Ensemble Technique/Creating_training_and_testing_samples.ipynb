{
 "cells": [
  {
   "cell_type": "code",
   "execution_count": 1,
   "id": "057f21fd",
   "metadata": {},
   "outputs": [],
   "source": [
    "#Importing all the library\n",
    "import pandas as pd\n",
    "import numpy as np\n",
    "from matplotlib import pyplot as plt\n",
    "import tensorflow as tf\n",
    "from tensorflow import keras\n",
    "from tensorflow.keras import layers\n",
    "import seaborn as sns\n",
    "from scipy import stats\n",
    "from sklearn.model_selection import train_test_split\n",
    "from sklearn import preprocessing\n",
    "from sklearn.linear_model import LogisticRegression\n",
    "import pickle\n",
    "from sklearn.ensemble import RandomForestClassifier\n",
    "from sklearn.neighbors import KNeighborsClassifier\n",
    "from sklearn.metrics import precision_score, recall_score, f1_score\n",
    "from sklearn.metrics import confusion_matrix , classification_report"
   ]
  },
  {
   "cell_type": "code",
   "execution_count": 4,
   "id": "e71cf95c",
   "metadata": {},
   "outputs": [
    {
     "data": {
      "text/html": [
       "<div>\n",
       "<style scoped>\n",
       "    .dataframe tbody tr th:only-of-type {\n",
       "        vertical-align: middle;\n",
       "    }\n",
       "\n",
       "    .dataframe tbody tr th {\n",
       "        vertical-align: top;\n",
       "    }\n",
       "\n",
       "    .dataframe thead th {\n",
       "        text-align: right;\n",
       "    }\n",
       "</style>\n",
       "<table border=\"1\" class=\"dataframe\">\n",
       "  <thead>\n",
       "    <tr style=\"text-align: right;\">\n",
       "      <th></th>\n",
       "      <th>credit.policy</th>\n",
       "      <th>int.rate</th>\n",
       "      <th>installment</th>\n",
       "      <th>log.annual.inc</th>\n",
       "      <th>dti</th>\n",
       "      <th>fico</th>\n",
       "      <th>days.with.cr.line</th>\n",
       "      <th>revol.bal</th>\n",
       "      <th>revol.util</th>\n",
       "      <th>inq.last.6mths</th>\n",
       "      <th>delinq.2yrs</th>\n",
       "      <th>pub.rec</th>\n",
       "      <th>not.fully.paid</th>\n",
       "      <th>purpose_all_other</th>\n",
       "      <th>purpose_credit_card</th>\n",
       "      <th>purpose_debt_consolidation</th>\n",
       "      <th>purpose_educational</th>\n",
       "      <th>purpose_home_improvement</th>\n",
       "      <th>purpose_major_purchase</th>\n",
       "      <th>purpose_small_business</th>\n",
       "    </tr>\n",
       "  </thead>\n",
       "  <tbody>\n",
       "    <tr>\n",
       "      <th>0</th>\n",
       "      <td>1</td>\n",
       "      <td>0.1189</td>\n",
       "      <td>829.10</td>\n",
       "      <td>11.350407</td>\n",
       "      <td>19.48</td>\n",
       "      <td>737</td>\n",
       "      <td>5639.958333</td>\n",
       "      <td>28854</td>\n",
       "      <td>52.1</td>\n",
       "      <td>0</td>\n",
       "      <td>0</td>\n",
       "      <td>0</td>\n",
       "      <td>0</td>\n",
       "      <td>0</td>\n",
       "      <td>0</td>\n",
       "      <td>1</td>\n",
       "      <td>0</td>\n",
       "      <td>0</td>\n",
       "      <td>0</td>\n",
       "      <td>0</td>\n",
       "    </tr>\n",
       "    <tr>\n",
       "      <th>1</th>\n",
       "      <td>1</td>\n",
       "      <td>0.1071</td>\n",
       "      <td>228.22</td>\n",
       "      <td>11.082143</td>\n",
       "      <td>14.29</td>\n",
       "      <td>707</td>\n",
       "      <td>2760.000000</td>\n",
       "      <td>33623</td>\n",
       "      <td>76.7</td>\n",
       "      <td>0</td>\n",
       "      <td>0</td>\n",
       "      <td>0</td>\n",
       "      <td>0</td>\n",
       "      <td>0</td>\n",
       "      <td>1</td>\n",
       "      <td>0</td>\n",
       "      <td>0</td>\n",
       "      <td>0</td>\n",
       "      <td>0</td>\n",
       "      <td>0</td>\n",
       "    </tr>\n",
       "    <tr>\n",
       "      <th>2</th>\n",
       "      <td>1</td>\n",
       "      <td>0.1357</td>\n",
       "      <td>366.86</td>\n",
       "      <td>10.373491</td>\n",
       "      <td>11.63</td>\n",
       "      <td>682</td>\n",
       "      <td>4710.000000</td>\n",
       "      <td>3511</td>\n",
       "      <td>25.6</td>\n",
       "      <td>1</td>\n",
       "      <td>0</td>\n",
       "      <td>0</td>\n",
       "      <td>0</td>\n",
       "      <td>0</td>\n",
       "      <td>0</td>\n",
       "      <td>1</td>\n",
       "      <td>0</td>\n",
       "      <td>0</td>\n",
       "      <td>0</td>\n",
       "      <td>0</td>\n",
       "    </tr>\n",
       "    <tr>\n",
       "      <th>3</th>\n",
       "      <td>1</td>\n",
       "      <td>0.1008</td>\n",
       "      <td>162.34</td>\n",
       "      <td>11.350407</td>\n",
       "      <td>8.10</td>\n",
       "      <td>712</td>\n",
       "      <td>2699.958333</td>\n",
       "      <td>33667</td>\n",
       "      <td>73.2</td>\n",
       "      <td>1</td>\n",
       "      <td>0</td>\n",
       "      <td>0</td>\n",
       "      <td>0</td>\n",
       "      <td>0</td>\n",
       "      <td>0</td>\n",
       "      <td>1</td>\n",
       "      <td>0</td>\n",
       "      <td>0</td>\n",
       "      <td>0</td>\n",
       "      <td>0</td>\n",
       "    </tr>\n",
       "    <tr>\n",
       "      <th>4</th>\n",
       "      <td>1</td>\n",
       "      <td>0.1426</td>\n",
       "      <td>102.92</td>\n",
       "      <td>11.299732</td>\n",
       "      <td>14.97</td>\n",
       "      <td>667</td>\n",
       "      <td>4066.000000</td>\n",
       "      <td>4740</td>\n",
       "      <td>39.5</td>\n",
       "      <td>0</td>\n",
       "      <td>1</td>\n",
       "      <td>0</td>\n",
       "      <td>0</td>\n",
       "      <td>0</td>\n",
       "      <td>1</td>\n",
       "      <td>0</td>\n",
       "      <td>0</td>\n",
       "      <td>0</td>\n",
       "      <td>0</td>\n",
       "      <td>0</td>\n",
       "    </tr>\n",
       "  </tbody>\n",
       "</table>\n",
       "</div>"
      ],
      "text/plain": [
       "   credit.policy  int.rate  installment  log.annual.inc    dti  fico  \\\n",
       "0              1    0.1189       829.10       11.350407  19.48   737   \n",
       "1              1    0.1071       228.22       11.082143  14.29   707   \n",
       "2              1    0.1357       366.86       10.373491  11.63   682   \n",
       "3              1    0.1008       162.34       11.350407   8.10   712   \n",
       "4              1    0.1426       102.92       11.299732  14.97   667   \n",
       "\n",
       "   days.with.cr.line  revol.bal  revol.util  inq.last.6mths  delinq.2yrs  \\\n",
       "0        5639.958333      28854        52.1               0            0   \n",
       "1        2760.000000      33623        76.7               0            0   \n",
       "2        4710.000000       3511        25.6               1            0   \n",
       "3        2699.958333      33667        73.2               1            0   \n",
       "4        4066.000000       4740        39.5               0            1   \n",
       "\n",
       "   pub.rec  not.fully.paid  purpose_all_other  purpose_credit_card  \\\n",
       "0        0               0                  0                    0   \n",
       "1        0               0                  0                    1   \n",
       "2        0               0                  0                    0   \n",
       "3        0               0                  0                    0   \n",
       "4        0               0                  0                    1   \n",
       "\n",
       "   purpose_debt_consolidation  purpose_educational  purpose_home_improvement  \\\n",
       "0                           1                    0                         0   \n",
       "1                           0                    0                         0   \n",
       "2                           1                    0                         0   \n",
       "3                           1                    0                         0   \n",
       "4                           0                    0                         0   \n",
       "\n",
       "   purpose_major_purchase  purpose_small_business  \n",
       "0                       0                       0  \n",
       "1                       0                       0  \n",
       "2                       0                       0  \n",
       "3                       0                       0  \n",
       "4                       0                       0  "
      ]
     },
     "execution_count": 4,
     "metadata": {},
     "output_type": "execute_result"
    }
   ],
   "source": [
    "df = pd.read_csv('df_encoded.csv')\n",
    "df.head()"
   ]
  },
  {
   "cell_type": "code",
   "execution_count": 6,
   "id": "192cc953",
   "metadata": {},
   "outputs": [],
   "source": [
    "X = df.drop('not.fully.paid',axis='columns')\n",
    "y = df['not.fully.paid']"
   ]
  },
  {
   "cell_type": "code",
   "execution_count": 7,
   "id": "5772688d",
   "metadata": {},
   "outputs": [],
   "source": [
    "from sklearn.model_selection import train_test_split\n",
    "X_train, X_test, y_train, y_test = train_test_split(X, y, test_size=0.2, random_state=15, stratify=y)"
   ]
  },
  {
   "cell_type": "code",
   "execution_count": 8,
   "id": "a5b69b99",
   "metadata": {},
   "outputs": [
    {
     "data": {
      "text/plain": [
       "0    4508\n",
       "1     739\n",
       "Name: not.fully.paid, dtype: int64"
      ]
     },
     "execution_count": 8,
     "metadata": {},
     "output_type": "execute_result"
    }
   ],
   "source": [
    "y_train.value_counts()"
   ]
  },
  {
   "cell_type": "code",
   "execution_count": 9,
   "id": "d77febbb",
   "metadata": {},
   "outputs": [
    {
     "data": {
      "text/plain": [
       "6.100135317997293"
      ]
     },
     "execution_count": 9,
     "metadata": {},
     "output_type": "execute_result"
    }
   ],
   "source": [
    "4508 / 739\n"
   ]
  },
  {
   "cell_type": "code",
   "execution_count": 20,
   "id": "1ef9464e",
   "metadata": {},
   "outputs": [],
   "source": [
    "df3 = X_train.copy()\n",
    "df3['not.fully.paid'] = y_train"
   ]
  },
  {
   "cell_type": "code",
   "execution_count": 21,
   "id": "21923ebd",
   "metadata": {},
   "outputs": [
    {
     "data": {
      "text/plain": [
       "credit.policy                 0\n",
       "int.rate                      0\n",
       "installment                   0\n",
       "log.annual.inc                0\n",
       "dti                           0\n",
       "fico                          0\n",
       "days.with.cr.line             0\n",
       "revol.bal                     0\n",
       "revol.util                    0\n",
       "inq.last.6mths                0\n",
       "delinq.2yrs                   0\n",
       "pub.rec                       0\n",
       "purpose_all_other             0\n",
       "purpose_credit_card           0\n",
       "purpose_debt_consolidation    0\n",
       "purpose_educational           0\n",
       "purpose_home_improvement      0\n",
       "purpose_major_purchase        0\n",
       "purpose_small_business        0\n",
       "not.fully.paid                0\n",
       "dtype: int64"
      ]
     },
     "execution_count": 21,
     "metadata": {},
     "output_type": "execute_result"
    }
   ],
   "source": [
    "df3.isnull().sum()"
   ]
  },
  {
   "cell_type": "code",
   "execution_count": 27,
   "id": "0c598788",
   "metadata": {},
   "outputs": [],
   "source": [
    "def get_train_batch(df_majority, df_minority, start, end):\n",
    "    df_train = pd.concat([df_majority[start:end], df_minority], axis=0)\n",
    "\n",
    "    X_train = df_train.drop('not.fully.paid', axis='columns')\n",
    "    y_train = df_train['not.fully.paid']\n",
    "    return X_train, y_train    "
   ]
  },
  {
   "cell_type": "code",
   "execution_count": 28,
   "id": "74773cc8",
   "metadata": {},
   "outputs": [],
   "source": [
    "df3_class0 = df3[df3['not.fully.paid']==0]\n",
    "df3_class1 = df3[df3['not.fully.paid']==1]"
   ]
  },
  {
   "cell_type": "code",
   "execution_count": 29,
   "id": "35af4241",
   "metadata": {},
   "outputs": [
    {
     "data": {
      "text/plain": [
       "credit.policy                 0\n",
       "int.rate                      0\n",
       "installment                   0\n",
       "log.annual.inc                0\n",
       "dti                           0\n",
       "fico                          0\n",
       "days.with.cr.line             0\n",
       "revol.bal                     0\n",
       "revol.util                    0\n",
       "inq.last.6mths                0\n",
       "delinq.2yrs                   0\n",
       "pub.rec                       0\n",
       "purpose_all_other             0\n",
       "purpose_credit_card           0\n",
       "purpose_debt_consolidation    0\n",
       "purpose_educational           0\n",
       "purpose_home_improvement      0\n",
       "purpose_major_purchase        0\n",
       "purpose_small_business        0\n",
       "not.fully.paid                0\n",
       "dtype: int64"
      ]
     },
     "execution_count": 29,
     "metadata": {},
     "output_type": "execute_result"
    }
   ],
   "source": [
    "df3_class0.isnull().sum()"
   ]
  },
  {
   "cell_type": "code",
   "execution_count": 30,
   "id": "fe9ce6ed",
   "metadata": {},
   "outputs": [
    {
     "data": {
      "text/plain": [
       "0    4508\n",
       "1     739\n",
       "Name: not.fully.paid, dtype: int64"
      ]
     },
     "execution_count": 30,
     "metadata": {},
     "output_type": "execute_result"
    }
   ],
   "source": [
    "df3['not.fully.paid'].value_counts()"
   ]
  },
  {
   "cell_type": "code",
   "execution_count": 31,
   "id": "08f62290",
   "metadata": {},
   "outputs": [
    {
     "data": {
      "text/plain": [
       "644.0"
      ]
     },
     "execution_count": 31,
     "metadata": {},
     "output_type": "execute_result"
    }
   ],
   "source": [
    "4508 / 7\n"
   ]
  },
  {
   "cell_type": "code",
   "execution_count": 32,
   "id": "250950fe",
   "metadata": {},
   "outputs": [
    {
     "data": {
      "text/plain": [
       "4508"
      ]
     },
     "execution_count": 32,
     "metadata": {},
     "output_type": "execute_result"
    }
   ],
   "source": [
    "644 * 7"
   ]
  },
  {
   "cell_type": "code",
   "execution_count": 33,
   "id": "f30a3d47",
   "metadata": {},
   "outputs": [],
   "source": [
    "X_train1, y_train1 = get_train_batch(df2_0, df2_1, 0, 643)\n",
    "X_train2, y_train2 = get_train_batch(df2_0, df2_1, 644, 1286)\n",
    "X_train3, y_train3 = get_train_batch(df2_0, df2_1, 1287, 1931)\n",
    "X_train4, y_train4 = get_train_batch(df2_0, df2_1, 1932, 2576)\n",
    "X_train5, y_train5 = get_train_batch(df2_0, df2_1, 2577, 3220)\n",
    "X_train6, y_train6 = get_train_batch(df2_0, df2_1, 3221, 3864)\n",
    "X_train7, y_train7 = get_train_batch(df2_0, df2_1, 3865, 4508)    "
   ]
  },
  {
   "cell_type": "code",
   "execution_count": 34,
   "id": "cc2eb316",
   "metadata": {},
   "outputs": [],
   "source": [
    "X_train1.to_csv('X_train1.csv', index = False)\n",
    "y_train1.to_csv('y_train1.csv', index = False)\n",
    "X_train2.to_csv('X_train2.csv', index = False)\n",
    "y_train2.to_csv('y_train2.csv', index = False)\n",
    "X_train3.to_csv('X_train3.csv', index = False)\n",
    "y_train3.to_csv('y_train3.csv', index = False)\n",
    "X_train4.to_csv('X_train4.csv', index = False)\n",
    "y_train4.to_csv('y_train4.csv', index = False)\n",
    "X_train5.to_csv('X_train5.csv', index = False)\n",
    "y_train5.to_csv('y_train5.csv', index = False)\n",
    "X_train6.to_csv('X_train6.csv', index = False)\n",
    "y_train6.to_csv('y_train6.csv', index = False)\n",
    "X_train7.to_csv('X_train7.csv', index = False)\n",
    "y_train7.to_csv('y_train7.csv', index = False)"
   ]
  },
  {
   "cell_type": "code",
   "execution_count": 35,
   "id": "53539be5",
   "metadata": {},
   "outputs": [],
   "source": [
    "X_test.to_csv('X_test.csv', index = False)\n",
    "y_test.to_csv('y_test.csv', index = False)"
   ]
  },
  {
   "cell_type": "code",
   "execution_count": null,
   "id": "9fa7dac4",
   "metadata": {},
   "outputs": [],
   "source": []
  }
 ],
 "metadata": {
  "kernelspec": {
   "display_name": "Python 3 (ipykernel)",
   "language": "python",
   "name": "python3"
  },
  "language_info": {
   "codemirror_mode": {
    "name": "ipython",
    "version": 3
   },
   "file_extension": ".py",
   "mimetype": "text/x-python",
   "name": "python",
   "nbconvert_exporter": "python",
   "pygments_lexer": "ipython3",
   "version": "3.9.12"
  }
 },
 "nbformat": 4,
 "nbformat_minor": 5
}
