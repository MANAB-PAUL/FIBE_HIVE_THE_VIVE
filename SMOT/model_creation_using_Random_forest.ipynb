{
 "cells": [
  {
   "cell_type": "code",
   "execution_count": 1,
   "id": "a8d5d4ca",
   "metadata": {},
   "outputs": [],
   "source": [
    "#Importing all the library\n",
    "import pandas as pd\n",
    "import numpy as np\n",
    "from matplotlib import pyplot as plt\n",
    "import tensorflow as tf\n",
    "from tensorflow import keras\n",
    "from tensorflow.keras import layers\n",
    "import seaborn as sns\n",
    "from scipy import stats\n",
    "from sklearn.model_selection import train_test_split\n",
    "from sklearn import preprocessing\n",
    "from sklearn.linear_model import LogisticRegression\n",
    "import pickle\n",
    "from sklearn.ensemble import RandomForestClassifier\n",
    "from sklearn.neighbors import KNeighborsClassifier\n",
    "from sklearn.metrics import precision_score, recall_score, f1_score\n",
    "from sklearn.metrics import confusion_matrix , classification_report"
   ]
  },
  {
   "cell_type": "code",
   "execution_count": 2,
   "id": "a68e6c6f",
   "metadata": {},
   "outputs": [],
   "source": [
    "### reading data set\n",
    "X_train = pd.read_csv('X_train.csv')\n",
    "y_train = pd.read_csv('y_train.csv')\n",
    "X_test = pd.read_csv('X_test.csv')\n",
    "y_test = pd.read_csv('y_test.csv')"
   ]
  },
  {
   "cell_type": "code",
   "execution_count": 3,
   "id": "786a5033",
   "metadata": {},
   "outputs": [],
   "source": [
    "### scaling x train\n",
    "x = X_train.values #returns a numpy array\n",
    "min_max_scaler = preprocessing.MinMaxScaler()\n",
    "X_train_scaled = min_max_scaler.fit_transform(x)\n",
    "df_X_train_scaled = pd.DataFrame(X_train_scaled)"
   ]
  },
  {
   "cell_type": "code",
   "execution_count": 4,
   "id": "a7c4c97a",
   "metadata": {},
   "outputs": [],
   "source": [
    "x = X_test.values #returns a numpy array\n",
    "min_max_scaler = preprocessing.MinMaxScaler()\n",
    "X_test_scaled = min_max_scaler.fit_transform(x)\n",
    "df_X_test_scaled = pd.DataFrame(X_test_scaled)"
   ]
  },
  {
   "cell_type": "markdown",
   "id": "44692ed8",
   "metadata": {},
   "source": [
    "# Implementing Random Forest"
   ]
  },
  {
   "cell_type": "code",
   "execution_count": 5,
   "id": "0c6877c8",
   "metadata": {},
   "outputs": [],
   "source": [
    "y_train_np = np.array(y_train)\n",
    "y_train_np = y_train_np.flatten()\n",
    "y_test_np = np.array(y_test)\n",
    "y_test_np = y_test_np.flatten()\n",
    "\n",
    "clf_RF = RandomForestClassifier(n_estimators=370)\n",
    "clf_RF.fit(df_X_train_scaled, y_train_np)\n",
    "accuracy_RF = clf_RF.score(df_X_test_scaled, y_test_np)\n",
    "y_pred_RF = clf_RF.predict(df_X_test_scaled)"
   ]
  },
  {
   "cell_type": "code",
   "execution_count": 6,
   "id": "d61225b3",
   "metadata": {},
   "outputs": [
    {
     "name": "stdout",
     "output_type": "stream",
     "text": [
      "0.8842058562555457\n"
     ]
    }
   ],
   "source": [
    "print(accuracy_RF)"
   ]
  },
  {
   "cell_type": "code",
   "execution_count": 7,
   "id": "0873d0a9",
   "metadata": {},
   "outputs": [
    {
     "name": "stdout",
     "output_type": "stream",
     "text": [
      "Classification report for Random Forest: \n",
      "               precision    recall  f1-score   support\n",
      "\n",
      "           0       0.86      0.91      0.89      1127\n",
      "           1       0.91      0.86      0.88      1127\n",
      "\n",
      "    accuracy                           0.88      2254\n",
      "   macro avg       0.89      0.88      0.88      2254\n",
      "weighted avg       0.89      0.88      0.88      2254\n",
      "\n"
     ]
    }
   ],
   "source": [
    "print(\"Classification report for Random Forest: \\n\",classification_report(y_test, y_pred_RF))"
   ]
  },
  {
   "cell_type": "code",
   "execution_count": null,
   "id": "0623a7e2",
   "metadata": {},
   "outputs": [],
   "source": []
  }
 ],
 "metadata": {
  "kernelspec": {
   "display_name": "Python 3 (ipykernel)",
   "language": "python",
   "name": "python3"
  },
  "language_info": {
   "codemirror_mode": {
    "name": "ipython",
    "version": 3
   },
   "file_extension": ".py",
   "mimetype": "text/x-python",
   "name": "python",
   "nbconvert_exporter": "python",
   "pygments_lexer": "ipython3",
   "version": "3.9.12"
  }
 },
 "nbformat": 4,
 "nbformat_minor": 5
}
