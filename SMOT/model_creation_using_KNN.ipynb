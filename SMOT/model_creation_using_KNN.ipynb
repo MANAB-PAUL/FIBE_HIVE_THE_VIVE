{
 "cells": [
  {
   "cell_type": "code",
   "execution_count": 1,
   "id": "4dce1ebb",
   "metadata": {},
   "outputs": [],
   "source": [
    "#Importing all the library\n",
    "import pandas as pd\n",
    "import numpy as np\n",
    "from matplotlib import pyplot as plt\n",
    "import tensorflow as tf\n",
    "from tensorflow import keras\n",
    "from tensorflow.keras import layers\n",
    "import seaborn as sns\n",
    "from scipy import stats\n",
    "from sklearn.model_selection import train_test_split\n",
    "from sklearn import preprocessing\n",
    "from sklearn.linear_model import LogisticRegression\n",
    "import pickle\n",
    "from sklearn.ensemble import RandomForestClassifier\n",
    "from sklearn.neighbors import KNeighborsClassifier\n",
    "from sklearn.metrics import precision_score, recall_score, f1_score\n",
    "from sklearn.metrics import confusion_matrix , classification_report"
   ]
  },
  {
   "cell_type": "code",
   "execution_count": 2,
   "id": "33b08328",
   "metadata": {},
   "outputs": [],
   "source": [
    "### reading data set\n",
    "X_train = pd.read_csv('X_train.csv')\n",
    "y_train = pd.read_csv('y_train.csv')\n",
    "X_test = pd.read_csv('X_test.csv')\n",
    "y_test = pd.read_csv('y_test.csv')"
   ]
  },
  {
   "cell_type": "code",
   "execution_count": 3,
   "id": "243530ac",
   "metadata": {},
   "outputs": [],
   "source": [
    "### scaling x train\n",
    "x = X_train.values #returns a numpy array\n",
    "min_max_scaler = preprocessing.MinMaxScaler()\n",
    "X_train_scaled = min_max_scaler.fit_transform(x)\n",
    "df_X_train_scaled = pd.DataFrame(X_train_scaled)"
   ]
  },
  {
   "cell_type": "code",
   "execution_count": 4,
   "id": "69fc8547",
   "metadata": {},
   "outputs": [],
   "source": [
    "x = X_test.values #returns a numpy array\n",
    "min_max_scaler = preprocessing.MinMaxScaler()\n",
    "X_test_scaled = min_max_scaler.fit_transform(x)\n",
    "df_X_test_scaled = pd.DataFrame(X_test_scaled)"
   ]
  },
  {
   "cell_type": "markdown",
   "id": "c015438f",
   "metadata": {},
   "source": [
    "# implementing KNN"
   ]
  },
  {
   "cell_type": "code",
   "execution_count": 6,
   "id": "6e518dd9",
   "metadata": {},
   "outputs": [
    {
     "name": "stdout",
     "output_type": "stream",
     "text": [
      "3\n",
      "5\n",
      "7\n",
      "9\n",
      "11\n",
      "13\n",
      "15\n",
      "17\n",
      "19\n",
      "21\n",
      "23\n",
      "25\n",
      "27\n",
      "29\n",
      "31\n",
      "33\n",
      "35\n",
      "37\n",
      "39\n",
      "41\n",
      "43\n",
      "45\n",
      "47\n",
      "49\n",
      "51\n",
      "53\n",
      "55\n",
      "57\n",
      "59\n",
      "61\n",
      "63\n",
      "65\n",
      "67\n",
      "69\n",
      "71\n",
      "73\n",
      "75\n",
      "77\n",
      "79\n",
      "81\n",
      "83\n",
      "85\n",
      "87\n",
      "89\n",
      "91\n",
      "93\n",
      "95\n",
      "97\n",
      "99\n",
      "101\n",
      "103\n"
     ]
    }
   ],
   "source": [
    "X, Y = [], []\n",
    "\n",
    "y_train_np = np.array(y_train)\n",
    "y_train_np = y_train_np.flatten()\n",
    "y_test_np = np.array(y_test)\n",
    "y_test_np = y_test_np.flatten()\n",
    "\n",
    "max_accu, val_at_max_acc = 0, -1\n",
    "## testing for every value of k which gives the best result\n",
    "\n",
    "for i in range(3, 105,  2):\n",
    "    print(i)\n",
    "    clf_KNN = KNeighborsClassifier(n_neighbors=i)\n",
    "\n",
    "    # Fit the classifier to the training data\n",
    "    clf_KNN.fit(X_train, y_train_np)\n",
    "\n",
    "    # Evaluate the classifier on the test data\n",
    "    accuracy_KNN = clf_KNN.score(X_test, y_test_np)\n",
    "    \n",
    "    if accuracy_KNN > max_accu:\n",
    "        max_accu = accuracy_KNN\n",
    "        val_at_max_acc = i\n",
    "    \n",
    "    X.append(i)\n",
    "    Y.append(accuracy_KNN)"
   ]
  },
  {
   "cell_type": "code",
   "execution_count": 7,
   "id": "dd385f3f",
   "metadata": {},
   "outputs": [
    {
     "name": "stdout",
     "output_type": "stream",
     "text": [
      "0.7577639751552795\n",
      "3\n"
     ]
    },
    {
     "data": {
      "image/png": "[encoded data removed]",
      "text/plain": [
       "<Figure size 432x288 with 1 Axes>"
      ]
     },
     "metadata": {
      "needs_background": "light"
     },
     "output_type": "display_data"
    }
   ],
   "source": [
    "plt.plot(X, Y)\n",
    "plt.xlabel('K-Value')\n",
    "plt.ylabel('accuracy')\n",
    "plt.title('K vs accuracy plot')\n",
    "\n",
    "\n",
    "print(max_accu)\n",
    "print(val_at_max_acc)"
   ]
  },
  {
   "cell_type": "code",
   "execution_count": 10,
   "id": "d93f38d9",
   "metadata": {},
   "outputs": [],
   "source": [
    "# implementing the model with best value of k\n",
    "y_train_np = np.array(y_train)\n",
    "y_train_np = y_train_np.flatten()\n",
    "y_test_np = np.array(y_test)\n",
    "y_test_np = y_test_np.flatten()\n",
    "clf_KNN = KNeighborsClassifier(n_neighbors=3)\n",
    "\n",
    "    # Fit the classifier to the training data\n",
    "clf_KNN.fit(df_X_train_scaled, y_train_np)\n",
    "\n",
    "    # Evaluate the classifier on the test data\n",
    "accuracy_KNN = clf_KNN.score(df_X_test_scaled, y_test_np)"
   ]
  },
  {
   "cell_type": "code",
   "execution_count": 12,
   "id": "ae2c2bf8",
   "metadata": {},
   "outputs": [],
   "source": [
    "y_pred = clf_KNN.predict(df_X_test_scaled)"
   ]
  },
  {
   "cell_type": "code",
   "execution_count": 13,
   "id": "b1ed4d0a",
   "metadata": {},
   "outputs": [
    {
     "name": "stdout",
     "output_type": "stream",
     "text": [
      "Classification report for KNN: \n",
      "               precision    recall  f1-score   support\n",
      "\n",
      "           0       0.86      0.75      0.80      1127\n",
      "           1       0.78      0.88      0.83      1127\n",
      "\n",
      "    accuracy                           0.81      2254\n",
      "   macro avg       0.82      0.81      0.81      2254\n",
      "weighted avg       0.82      0.81      0.81      2254\n",
      "\n"
     ]
    }
   ],
   "source": [
    "print(\"Classification report for KNN: \\n\",classification_report(y_test, y_pred))"
   ]
  },
  {
   "cell_type": "code",
   "execution_count": null,
   "id": "2e325879",
   "metadata": {},
   "outputs": [],
   "source": []
  }
 ],
 "metadata": {
  "kernelspec": {
   "display_name": "Python 3 (ipykernel)",
   "language": "python",
   "name": "python3"
  },
  "language_info": {
   "codemirror_mode": {
    "name": "ipython",
    "version": 3
   },
   "file_extension": ".py",
   "mimetype": "text/x-python",
   "name": "python",
   "nbconvert_exporter": "python",
   "pygments_lexer": "ipython3",
   "version": "3.9.12"
  }
 },
 "nbformat": 4,
 "nbformat_minor": 5
}
